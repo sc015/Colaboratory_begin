{
  "nbformat": 4,
  "nbformat_minor": 0,
  "metadata": {
    "colab": {
      "name": "Untitled",
      "provenance": [],
      "authorship_tag": "ABX9TyPnDILNEkU2k0OwvlKlsOnQ",
      "include_colab_link": true
    },
    "kernelspec": {
      "name": "python3",
      "display_name": "Python 3"
    }
  },
  "cells": [
    {
      "cell_type": "markdown",
      "metadata": {
        "id": "view-in-github",
        "colab_type": "text"
      },
      "source": [
        "<a href=\"https://colab.research.google.com/github/sc015/Colaboratory_begin/blob/main/Untitled1.ipynb\" target=\"_parent\"><img src=\"https://colab.research.google.com/assets/colab-badge.svg\" alt=\"Open In Colab\"/></a>"
      ]
    },
    {
      "cell_type": "code",
      "metadata": {
        "id": "aA5ND2ZNhX0y"
      },
      "source": [
        "import pandas as pd\r\n",
        "import numpy as np"
      ],
      "execution_count": 1,
      "outputs": []
    },
    {
      "cell_type": "code",
      "metadata": {
        "colab": {
          "base_uri": "https://localhost:8080/"
        },
        "id": "JI9GjxT5hjz2",
        "outputId": "b81c8100-3cb5-4a98-c77b-2d9e71c1bbdd"
      },
      "source": [
        "# In millions\r\n",
        "g7_pop = pd.Series([35.467, 63.951, 80.940, 60.665, 127.061, 64.511, 318.523])\r\n",
        "print(g7_pop)\r\n"
      ],
      "execution_count": 20,
      "outputs": [
        {
          "output_type": "stream",
          "text": [
            "0     35.467\n",
            "1     63.951\n",
            "2     80.940\n",
            "3     60.665\n",
            "4    127.061\n",
            "5     64.511\n",
            "6    318.523\n",
            "dtype: float64\n"
          ],
          "name": "stdout"
        }
      ]
    },
    {
      "cell_type": "code",
      "metadata": {
        "id": "x73-1iSAiaUr"
      },
      "source": [
        "print(g7_pop)"
      ],
      "execution_count": null,
      "outputs": []
    },
    {
      "cell_type": "code",
      "metadata": {
        "id": "9AZk_bGtjy_C"
      },
      "source": [
        "g7_pop.name = 'G7 Population in millions'\r\n"
      ],
      "execution_count": 5,
      "outputs": []
    },
    {
      "cell_type": "code",
      "metadata": {
        "id": "wnkd2Pm4j5JG"
      },
      "source": [
        "g7_pop"
      ],
      "execution_count": null,
      "outputs": []
    },
    {
      "cell_type": "code",
      "metadata": {
        "colab": {
          "base_uri": "https://localhost:8080/"
        },
        "id": "WD0BVv5BkJQe",
        "outputId": "d363111d-3cbf-4e28-b666-222ddbf2b0e3"
      },
      "source": [
        "g7_pop.values"
      ],
      "execution_count": 8,
      "outputs": [
        {
          "output_type": "execute_result",
          "data": {
            "text/plain": [
              "array([ 35.467,  63.951,  80.94 ,  60.665, 127.061,  64.511, 318.523])"
            ]
          },
          "metadata": {
            "tags": []
          },
          "execution_count": 8
        }
      ]
    },
    {
      "cell_type": "code",
      "metadata": {
        "colab": {
          "base_uri": "https://localhost:8080/"
        },
        "id": "Qjo8WhuTk6oy",
        "outputId": "707c3750-ee6b-4a2c-a87e-cdb164999a2b"
      },
      "source": [
        "g7_pop.index"
      ],
      "execution_count": 22,
      "outputs": [
        {
          "output_type": "execute_result",
          "data": {
            "text/plain": [
              "RangeIndex(start=0, stop=7, step=1)"
            ]
          },
          "metadata": {
            "tags": []
          },
          "execution_count": 22
        }
      ]
    },
    {
      "cell_type": "code",
      "metadata": {
        "colab": {
          "base_uri": "https://localhost:8080/"
        },
        "id": "VxPLcWNIsj_D",
        "outputId": "cf983dfa-e35b-4e69-d6d7-d19df5fb1b6b"
      },
      "source": [
        "\r\n",
        "g7_pop.index = [\r\n",
        "    'Canada',\r\n",
        "    'France',\r\n",
        "    'Germany',\r\n",
        "    'Italy',\r\n",
        "    'Japan',\r\n",
        "    'United Kingdom',\r\n",
        "    'United States',\r\n",
        "]\r\n",
        "print(g7_pop)"
      ],
      "execution_count": 23,
      "outputs": [
        {
          "output_type": "stream",
          "text": [
            "Canada             35.467\n",
            "France             63.951\n",
            "Germany            80.940\n",
            "Italy              60.665\n",
            "Japan             127.061\n",
            "United Kingdom     64.511\n",
            "United States     318.523\n",
            "dtype: float64\n"
          ],
          "name": "stdout"
        }
      ]
    },
    {
      "cell_type": "code",
      "metadata": {
        "colab": {
          "base_uri": "https://localhost:8080/"
        },
        "id": "oRRA5ay7xf7y",
        "outputId": "ebbe95ec-5cdb-4d64-83ea-35481dd77fe3"
      },
      "source": [
        "g7_pop"
      ],
      "execution_count": 24,
      "outputs": [
        {
          "output_type": "execute_result",
          "data": {
            "text/plain": [
              "Canada             35.467\n",
              "France             63.951\n",
              "Germany            80.940\n",
              "Italy              60.665\n",
              "Japan             127.061\n",
              "United Kingdom     64.511\n",
              "United States     318.523\n",
              "dtype: float64"
            ]
          },
          "metadata": {
            "tags": []
          },
          "execution_count": 24
        }
      ]
    }
  ]
}