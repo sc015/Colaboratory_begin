{
  "nbformat": 4,
  "nbformat_minor": 0,
  "metadata": {
    "colab": {
      "name": "project0.ipynb",
      "provenance": [],
      "collapsed_sections": [],
      "authorship_tag": "ABX9TyOd3FMc1m2XJqTDAIZHqdoe"
    },
    "kernelspec": {
      "name": "python3",
      "display_name": "Python 3"
    }
  },
  "cells": [
    {
      "cell_type": "code",
      "metadata": {
        "colab": {
          "base_uri": "https://localhost:8080/"
        },
        "id": "3zwdpfffLZk8",
        "outputId": "dc6304a1-ed28-4f10-942c-2f31f4be95f8"
      },
      "source": [
        "print('hello world')"
      ],
      "execution_count": null,
      "outputs": [
        {
          "output_type": "stream",
          "text": [
            "hello world\n"
          ],
          "name": "stdout"
        }
      ]
    },
    {
      "cell_type": "code",
      "metadata": {
        "colab": {
          "base_uri": "https://localhost:8080/"
        },
        "id": "H9HZ8xl8LnTM",
        "outputId": "d2393e18-540a-4c41-db95-961a7eb8088a"
      },
      "source": [
        "print(type('Hello world'))\r\n",
        "print(type(7.0))\r\n",
        "\r\n",
        "print(type(True))\r\n",
        "print(type(False))\r\n",
        "\r\n",
        "print(type('True'))\r\n",
        "print(type('1'))"
      ],
      "execution_count": null,
      "outputs": [
        {
          "output_type": "stream",
          "text": [
            "<class 'str'>\n",
            "<class 'float'>\n",
            "<class 'bool'>\n",
            "<class 'bool'>\n",
            "<class 'str'>\n",
            "<class 'str'>\n"
          ],
          "name": "stdout"
        }
      ]
    }
  ]
}