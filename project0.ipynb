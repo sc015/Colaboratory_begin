{
  "nbformat": 4,
  "nbformat_minor": 0,
  "metadata": {
    "colab": {
      "name": "project0.ipynb",
      "provenance": [],
      "collapsed_sections": [],
      "authorship_tag": "ABX9TyPeiV9LmqQrFk+vRaWbzc0M"
    },
    "kernelspec": {
      "name": "python3",
      "display_name": "Python 3"
    }
  },
  "cells": [
    {
      "cell_type": "code",
      "metadata": {
        "colab": {
          "base_uri": "https://localhost:8080/"
        },
        "id": "3zwdpfffLZk8",
        "outputId": "dc6304a1-ed28-4f10-942c-2f31f4be95f8"
      },
      "source": [
        "print('hello world')"
      ],
      "execution_count": null,
      "outputs": [
        {
          "output_type": "stream",
          "text": [
            "hello world\n"
          ],
          "name": "stdout"
        }
      ]
    },
    {
      "cell_type": "code",
      "metadata": {
        "colab": {
          "base_uri": "https://localhost:8080/"
        },
        "id": "H9HZ8xl8LnTM",
        "outputId": "126eaeda-4eae-4c5a-8d58-7912cab9983c"
      },
      "source": [
        "print(type('Hello world'))\r\n",
        "print(type(7.0))\r\n",
        "\r\n",
        "print(type(True))\r\n",
        "print(type(False))\r\n",
        "\r\n",
        "print(type('True'))\r\n",
        "print(type('1'))\r\n",
        "print(type('Hello world'))"
      ],
      "execution_count": 1,
      "outputs": [
        {
          "output_type": "stream",
          "text": [
            "<class 'str'>\n",
            "<class 'float'>\n",
            "<class 'bool'>\n",
            "<class 'bool'>\n",
            "<class 'str'>\n",
            "<class 'str'>\n"
          ],
          "name": "stdout"
        }
      ]
    },
    {
      "cell_type": "code",
      "metadata": {
        "id": "ga20UY7LcROE",
        "outputId": "f799c3ad-c9ad-4715-d63e-485b085c8beb",
        "colab": {
          "base_uri": "https://localhost:8080/"
        }
      },
      "source": [
        "print(type('Hello world2'))"
      ],
      "execution_count": 2,
      "outputs": [
        {
          "output_type": "stream",
          "text": [
            "<class 'str'>\n"
          ],
          "name": "stdout"
        }
      ]
    }
  ]
}