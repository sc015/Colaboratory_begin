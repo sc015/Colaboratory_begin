{
  "nbformat": 4,
  "nbformat_minor": 0,
  "metadata": {
    "colab": {
      "name": "Untitled0.ipynb",
      "provenance": [],
      "authorship_tag": "ABX9TyMeRa2u4ZVWsDe+/WCs9Yxn",
      "include_colab_link": true
    },
    "kernelspec": {
      "name": "python3",
      "display_name": "Python 3"
    }
  },
  "cells": [
    {
      "cell_type": "markdown",
      "metadata": {
        "id": "view-in-github",
        "colab_type": "text"
      },
      "source": [
        "<a href=\"https://colab.research.google.com/github/sc015/Colaboratory_begin/blob/main/Untitled0.ipynb\" target=\"_parent\"><img src=\"https://colab.research.google.com/assets/colab-badge.svg\" alt=\"Open In Colab\"/></a>"
      ]
    },
    {
      "cell_type": "code",
      "metadata": {
        "id": "pneubAXD2s5B"
      },
      "source": [
        "import numpy as np\r\n",
        "import pandas as pd\r\n"
      ],
      "execution_count": null,
      "outputs": []
    },
    {
      "cell_type": "code",
      "metadata": {
        "colab": {
          "base_uri": "https://localhost:8080/"
        },
        "id": "He5ubfMMPhwM",
        "outputId": "9dc6f9a2-65b5-430b-c4c3-f7a2c3c66a11"
      },
      "source": [
        "\r\n",
        "X = pd.Series([-1,2,0,-4,5,6,0,0,-9,10])\r\n",
        "\r\n",
        "mask = X > X.mean()\r\n",
        "print(mask)"
      ],
      "execution_count": null,
      "outputs": [
        {
          "output_type": "stream",
          "text": [
            "0    False\n",
            "1     True\n",
            "2    False\n",
            "3    False\n",
            "4     True\n",
            "5     True\n",
            "6    False\n",
            "7    False\n",
            "8    False\n",
            "9     True\n",
            "dtype: bool\n"
          ],
          "name": "stdout"
        }
      ]
    }
  ]
}